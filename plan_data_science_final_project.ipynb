{
 "cells": [
  {
   "cell_type": "markdown",
   "metadata": {},
   "source": [
    "## Plan:\n",
    "##### Cricket (ILT20)\n",
    "\n",
    "1) Countries represented / per team \n",
    "2) Runs scored in the matches (normal dist??)\n",
    "3) Highest scoring players (bar chart of total runs) / Top wicket takers\n",
    "4) Highest scoring players by team\n",
    "5) Comparison between winner and loser of the league (number of runs scored by openers, wickets in powerplay etc..)\n"
   ]
  },
  {
   "cell_type": "markdown",
   "metadata": {},
   "source": [
    "## Data Needed\n",
    "\n",
    "https://www.espncricinfo.com/records/tournament/batting-most-runs-career/international-league-t20-2024-25-16859\n",
    "Has: Name, runs scored in tournement, strike rate, team\n",
    "\n",
    "Then go into the player sub page for nationality\n",
    "\n",
    "https://www.espncricinfo.com/series/international-league-t20-2024-25-1462172/dubai-capitals-vs-mi-emirates-1st-match-1462173/full-scorecard\n",
    "Has: match results, runs scored, powerplay score"
   ]
  }
 ],
 "metadata": {
  "language_info": {
   "name": "python"
  }
 },
 "nbformat": 4,
 "nbformat_minor": 2
}
