{
 "cells": [
  {
   "cell_type": "markdown",
   "metadata": {},
   "source": [
    "## Plan:\n",
    "##### Cricket (ILT20)\n",
    "\n",
    "1) Countries represented / per team \n",
    "2) Runs scored in the matches (normal dist??)\n",
    "3) Highest scoring players (bar chart of total runs) / Top wicket takers\n",
    "4) Highest scoring players by team\n",
    "5) Comparison between winner and loser of the league (number of runs scored by openers, wickets in powerplay etc..)\n"
   ]
  },
  {
   "cell_type": "markdown",
   "metadata": {},
   "source": [
    "## Data Needed\n",
    "\n",
    "https://www.espncricinfo.com/records/tournament/batting-most-runs-career/international-league-t20-2024-25-16859\n",
    "Has: Name, runs scored in tournement, strike rate, team\n",
    "\n",
    "Then go into the player sub page for nationality\n",
    "\n",
    "https://www.espncricinfo.com/series/international-league-t20-2024-25-1462172/dubai-capitals-vs-mi-emirates-1st-match-1462173/full-scorecard\n",
    "Has: match results, runs scored, powerplay score"
   ]
  },
  {
   "cell_type": "markdown",
   "metadata": {},
   "source": [
    "# Structure of the Report\n",
    "\n",
    "### Introduction\n",
    "Talks about what the league is\n",
    "1. Number of players\n",
    "2. Number of nationalities represented\n",
    "3. Where these players play\n",
    "\n",
    "### Section 1 - Batting\n",
    "Talks about the batting stats\n",
    "1. Highest run scorers \n",
    "2. Distribution of average runs (minimum 12 balls faced)\n",
    "3. Strike rate (minimum 12 balls faced)\n",
    "4. Average strike rate per team (of batsmen)\n",
    "\n",
    "### Section 2 - Bowling\n",
    "Talks about the bowling stats\n",
    "1. Top wicket takers\n",
    "2. Number of wickets per team\n",
    "\n"
   ]
  }
 ],
 "metadata": {
  "language_info": {
   "name": "python"
  }
 },
 "nbformat": 4,
 "nbformat_minor": 2
}
